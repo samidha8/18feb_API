{
 "cells": [
  {
   "cell_type": "code",
   "execution_count": 1,
   "id": "104804e3-0cc9-4f6a-bec0-b18d20e18ccd",
   "metadata": {},
   "outputs": [],
   "source": [
    "import logging"
   ]
  },
  {
   "cell_type": "code",
   "execution_count": 3,
   "id": "9fcbaa32-d773-43a2-b005-474c2798b2dd",
   "metadata": {},
   "outputs": [],
   "source": [
    "logging.basicConfig(filename=\"api_txt\", level= logging.DEBUG)"
   ]
  },
  {
   "cell_type": "code",
   "execution_count": null,
   "id": "a2923e3e-027d-4e6f-89b3-8d46b54ebac6",
   "metadata": {},
   "outputs": [],
   "source": [
    "#Q1. What is an API? Give an example, where an API is used in real life."
   ]
  },
  {
   "cell_type": "code",
   "execution_count": 7,
   "id": "6172dadc-287f-4038-833d-3b347169e3bd",
   "metadata": {},
   "outputs": [],
   "source": [
    "logging.info(\"API stands for application programming interface.API acts as a communication layer, or as the name says, an interface, that allows different systems to talk to each other without having to understand exactly what each other does. APIs can come in many forms or shapes.\")"
   ]
  },
  {
   "cell_type": "code",
   "execution_count": 8,
   "id": "157042e1-3e76-4963-b18c-74a69df3ceb9",
   "metadata": {},
   "outputs": [
    {
     "data": {
      "text/plain": [
       "'API stands for application programming interface.API acts as a communication layer, or as the name says, an interface, that allows different systems to talk to each other without having to understand exactly what each other does. APIs can come in many forms or shapes.'"
      ]
     },
     "execution_count": 8,
     "metadata": {},
     "output_type": "execute_result"
    }
   ],
   "source": [
    "\"\"\"API stands for application programming interface.API acts as a communication layer, or as the name says, an interface, that allows different systems to talk to each other without having to understand exactly what each other does. APIs can come in many forms or shapes.\"\"\""
   ]
  },
  {
   "cell_type": "code",
   "execution_count": 10,
   "id": "389c4f94-f0da-4f88-bd1e-ee5a88c808e1",
   "metadata": {},
   "outputs": [],
   "source": [
    "logging.info(\"Gpay mobile app,interface between makemytrip and indio/airindia website, google search,login to pinterest\")"
   ]
  },
  {
   "cell_type": "code",
   "execution_count": 11,
   "id": "1b49c194-351e-4a80-9331-de9fdcccc097",
   "metadata": {},
   "outputs": [
    {
     "data": {
      "text/plain": [
       "'Gpay mobile app,interface between makemytrip and indio/airindia website, google search,login to pinterest'"
      ]
     },
     "execution_count": 11,
     "metadata": {},
     "output_type": "execute_result"
    }
   ],
   "source": [
    "\"\"\"Gpay mobile app,interface between makemytrip and indio/airindia website, google search,login to pinterest\"\"\""
   ]
  },
  {
   "cell_type": "code",
   "execution_count": null,
   "id": "0f66037d-1e79-4008-9360-d30435bfb7e6",
   "metadata": {},
   "outputs": [],
   "source": []
  },
  {
   "cell_type": "code",
   "execution_count": null,
   "id": "c2d65660-4d12-4e6d-af1a-46c66f6633eb",
   "metadata": {},
   "outputs": [],
   "source": [
    "#Q2. Give advantages and disadvantages of using API."
   ]
  },
  {
   "cell_type": "code",
   "execution_count": 23,
   "id": "fe88b423-dbfd-4063-b378-8c85d3bb3d37",
   "metadata": {},
   "outputs": [],
   "source": [
    "logging.info('Efficiency: When you have content that is automatically published and made available on different channels simultaneously, APIs allow for more efficient data distribution\\nAdaptability: One of the greatest benefits of APIs is the ability it has to adapt to changes through data migration and flexibility of services.')"
   ]
  },
  {
   "cell_type": "code",
   "execution_count": 22,
   "id": "8d3aa9e0-03d9-43fb-bad5-6872c5187c05",
   "metadata": {},
   "outputs": [
    {
     "data": {
      "text/plain": [
       "'Efficiency: When you have content that is automatically published and made available on different channels simultaneously, APIs allow for more efficient data distribution\\nAdaptability: One of the greatest benefits of APIs is the ability it has to adapt to changes through data migration and flexibility of services.'"
      ]
     },
     "execution_count": 22,
     "metadata": {},
     "output_type": "execute_result"
    }
   ],
   "source": [
    "'Efficiency: When you have content that is automatically published and made available on different channels simultaneously, APIs allow for more efficient data distribution\\nAdaptability: One of the greatest benefits of APIs is the ability it has to adapt to changes through data migration and flexibility of services.'"
   ]
  },
  {
   "cell_type": "code",
   "execution_count": 26,
   "id": "2cb63772-25ac-455a-b109-1b3555e20010",
   "metadata": {},
   "outputs": [],
   "source": [
    "logging.info(\"API is a gateway and can become a hacker's primary target.\")"
   ]
  },
  {
   "cell_type": "code",
   "execution_count": 25,
   "id": "4fbb8b89-c5ad-4f51-aab0-153fb6c9c85b",
   "metadata": {},
   "outputs": [],
   "source": [
    "#API is a gateway and can become a hacker's primary target."
   ]
  },
  {
   "cell_type": "code",
   "execution_count": null,
   "id": "4e00ed54-b04e-4475-9b08-c8926fece241",
   "metadata": {},
   "outputs": [],
   "source": [
    "#Q3. What is a Web API? Differentiate between API and Web API."
   ]
  },
  {
   "cell_type": "code",
   "execution_count": 20,
   "id": "97bd02c2-a841-4405-8874-5bfed208e922",
   "metadata": {},
   "outputs": [],
   "source": [
    "logging.info(\"A Web API is an application programming interface for the Web. A Browser API can extend the functionality of a web browser. A Server API can extend the functionality of a web server.\")"
   ]
  },
  {
   "cell_type": "code",
   "execution_count": 27,
   "id": "0a36d118-9d31-4ee2-a0eb-f5754b3c8add",
   "metadata": {},
   "outputs": [
    {
     "data": {
      "text/plain": [
       "'A Web API is an application programming interface for the Web. A Browser API can extend the functionality of a web browser. A Server API can extend the functionality of a web server.'"
      ]
     },
     "execution_count": 27,
     "metadata": {},
     "output_type": "execute_result"
    }
   ],
   "source": []
  },
  {
   "cell_type": "code",
   "execution_count": null,
   "id": "bbbc2a33-2a64-422e-9493-c86168c71c72",
   "metadata": {},
   "outputs": [],
   "source": [
    "#Q3. What is a Web API? Differentiate between API and Web API."
   ]
  },
  {
   "cell_type": "code",
   "execution_count": 29,
   "id": "f844b23a-4ad0-409c-9cd1-6875813b7ffd",
   "metadata": {},
   "outputs": [],
   "source": [
    "logging.info(\"A Web API is an application programming interface for the Web. A Browser API can extend the functionality of a web browser. A Server API can extend the functionality of a web server.'\")"
   ]
  },
  {
   "cell_type": "code",
   "execution_count": 28,
   "id": "b2be5e77-fcfb-4aec-9b30-e34c1ef33f10",
   "metadata": {},
   "outputs": [
    {
     "data": {
      "text/plain": [
       "'A Web API is an application programming interface for the Web. A Browser API can extend the functionality of a web browser. A Server API can extend the functionality of a web server.'"
      ]
     },
     "execution_count": 28,
     "metadata": {},
     "output_type": "execute_result"
    }
   ],
   "source": [
    "\"\"\"A Web API is an application programming interface for the Web. A Browser API can extend the functionality of a web browser. A Server API can extend the functionality of a web server.\"\"\""
   ]
  },
  {
   "cell_type": "code",
   "execution_count": 31,
   "id": "d6200e58-7516-4f1b-b07e-6883afc512c9",
   "metadata": {},
   "outputs": [],
   "source": [
    "logging.info(\"Both APIs and web services are technologies that enable the transfer of data between separate software applications. API is an interface that exposes an application's data to outside software, whereas web applications are one type of API with stricter requirements\")"
   ]
  },
  {
   "cell_type": "code",
   "execution_count": 21,
   "id": "ff706d6b-bb4a-4059-b2ba-c2c627dcb4c3",
   "metadata": {},
   "outputs": [
    {
     "data": {
      "text/plain": [
       "\"Both APIs and web services are technologies that enable the transfer of data between separate software applications. API is an interface that exposes an application's data to outside software, whereas web applications are one type of API with stricter requirements\""
      ]
     },
     "execution_count": 21,
     "metadata": {},
     "output_type": "execute_result"
    }
   ],
   "source": [
    "\"\"\"Both APIs and web services are technologies that enable the transfer of data between separate software applications. API is an interface that exposes an application's data to outside software, whereas web applications are one type of API with stricter requirements\n",
    "\"\"\""
   ]
  },
  {
   "cell_type": "code",
   "execution_count": null,
   "id": "99dab3b0-f083-4d8d-8d19-eb4e451949d3",
   "metadata": {},
   "outputs": [],
   "source": []
  },
  {
   "cell_type": "code",
   "execution_count": null,
   "id": "28913ca7-931f-407e-a8e4-e6d19d900e89",
   "metadata": {},
   "outputs": [],
   "source": [
    "#Q4. Explain REST and SOAP Architecture. Mention shortcomings of SOAP."
   ]
  },
  {
   "cell_type": "code",
   "execution_count": 33,
   "id": "e28a6439-c480-4823-88f0-ab7a2903797d",
   "metadata": {},
   "outputs": [],
   "source": [
    "logging.info(\"REST is a software architectural style that defines the set of rules to be used for creating web services. Web services which follow the REST architectural style are known as RESTful web services. It allows requesting systems to access and manipulate web resources by using a uniform and predefined set of rules\")"
   ]
  },
  {
   "cell_type": "code",
   "execution_count": 32,
   "id": "838d7f77-4fc4-4b8e-be91-1f1768d4f6c4",
   "metadata": {},
   "outputs": [
    {
     "data": {
      "text/plain": [
       "'REST is a software architectural style that defines the set of rules to be used for creating web services. Web services which follow the REST architectural style are known as RESTful web services. It allows requesting systems to access and manipulate web resources by using a uniform and predefined set of rules'"
      ]
     },
     "execution_count": 32,
     "metadata": {},
     "output_type": "execute_result"
    }
   ],
   "source": [
    "\"\"\"REST is a software architectural style that defines the set of rules to be used for creating web services. Web services which follow the REST architectural style are known as RESTful web services. It allows requesting systems to access and manipulate web resources by using a uniform and predefined set of rules\"\"\""
   ]
  },
  {
   "cell_type": "code",
   "execution_count": 34,
   "id": "54bd82e8-00d6-4b2a-b042-5f38668069aa",
   "metadata": {},
   "outputs": [],
   "source": [
    "logging.info(\"SOAP is a protocol for the exchange of information in a distributed environment. SOAP messages are encoded as XML documents and can be exchanged using various underlying protocols.\")"
   ]
  },
  {
   "cell_type": "code",
   "execution_count": 35,
   "id": "867fc425-4489-4bf9-8907-3381d24256e2",
   "metadata": {},
   "outputs": [
    {
     "data": {
      "text/plain": [
       "'SOAP is a protocol for the exchange of information in a distributed environment. SOAP messages are encoded as XML documents and can be exchanged using various underlying protocols.'"
      ]
     },
     "execution_count": 35,
     "metadata": {},
     "output_type": "execute_result"
    }
   ],
   "source": [
    "\"\"\"SOAP is a protocol for the exchange of information in a distributed environment. SOAP messages are encoded as XML documents and can be exchanged using various underlying protocols.\"\"\""
   ]
  },
  {
   "cell_type": "code",
   "execution_count": 36,
   "id": "8bc797ad-41c0-450b-aca0-c27b5faa39b1",
   "metadata": {},
   "outputs": [],
   "source": [
    "logging.info(\"implimentation is highly complex.\")\n",
    "logging.info(\"No variety of data formats.\")\n",
    "logging.info(\"SOAP is also extremely limited in its support of data formats.\")\n",
    "logging.info(\"API calls are not cached\")\n",
    "logging.info(\"only transfer messages as XML files\")"
   ]
  },
  {
   "cell_type": "code",
   "execution_count": null,
   "id": "743d8d17-042e-4ee5-94e0-20320b026353",
   "metadata": {},
   "outputs": [],
   "source": [
    "#shortcomings of SOAP\n",
    "#implimentation is highly complex.\n",
    "#No variety of data formats. \n",
    "#SOAP is also extremely limited in its support of data formats.\n",
    "#API calls are not cached\n",
    "#only transfer messages as XML files"
   ]
  },
  {
   "cell_type": "code",
   "execution_count": null,
   "id": "747c7812-21d4-4109-95b9-851e384e2f07",
   "metadata": {},
   "outputs": [],
   "source": []
  },
  {
   "cell_type": "code",
   "execution_count": null,
   "id": "19532985-6e19-46f0-b608-e62cd497a471",
   "metadata": {},
   "outputs": [],
   "source": [
    "#Q5 Differentiate between REST and SOAP."
   ]
  },
  {
   "cell_type": "code",
   "execution_count": 40,
   "id": "bc43c3d0-5cfd-4726-8ebd-441f56067fb1",
   "metadata": {},
   "outputs": [],
   "source": [
    "logging.info(\"A XML-based message protocol.Uses WSDL for communication between consumer and provider.Invokes services by calling RPC method.Does not return human readable result.Transfer is over HTTP. Also uses other protocols such as SMTP, FTP, etc..Performance is not great compared to REST\")"
   ]
  },
  {
   "cell_type": "code",
   "execution_count": 39,
   "id": "82c1eb04-f87e-4db6-9e72-1c14da1db886",
   "metadata": {},
   "outputs": [],
   "source": [
    "#SOAP\n",
    "#A XML-based message protocol\n",
    "#Uses WSDL for communication between consumer and provider\n",
    "#Invokes services by calling RPC method\n",
    "#Does not return human readable result\n",
    "#Transfer is over HTTP. Also uses other protocols such as SMTP, FTP, etc.\n",
    "#Performance is not great compared to REST"
   ]
  },
  {
   "cell_type": "code",
   "execution_count": 42,
   "id": "abe167b0-53c6-46fb-a2ef-f263efc2e0ad",
   "metadata": {},
   "outputs": [],
   "source": [
    "logging.info(\"An architectural style protocol.Uses XML or JSON to send and receive data.Simply calls services via URL path.Result is readable which is just plain XML or JSON.Transfer is over HTTP only.Transfer is over HTTP only.Performance is much better compared to SOAP.less CPU intensive, leaner code etc.\")"
   ]
  },
  {
   "cell_type": "code",
   "execution_count": 37,
   "id": "8e2d8611-2edd-4b1f-9b2c-91f7cfa9a598",
   "metadata": {},
   "outputs": [],
   "source": [
    "#REST\n",
    "#An architectural style protocol\n",
    "#Uses XML or JSON to send and receive data\n",
    "#Simply calls services via URL path\n",
    "#Result is readable which is just plain XML or JSON\n",
    "#Transfer is over HTTP only\n",
    "#Transfer is over HTTP only\n",
    "#Performance is much better compared to SOAP\n",
    "#less CPU intensive, leaner code etc."
   ]
  },
  {
   "cell_type": "code",
   "execution_count": null,
   "id": "b4effc40-a102-4eee-8823-ceca6af55773",
   "metadata": {},
   "outputs": [],
   "source": []
  }
 ],
 "metadata": {
  "kernelspec": {
   "display_name": "Python 3 (ipykernel)",
   "language": "python",
   "name": "python3"
  },
  "language_info": {
   "codemirror_mode": {
    "name": "ipython",
    "version": 3
   },
   "file_extension": ".py",
   "mimetype": "text/x-python",
   "name": "python",
   "nbconvert_exporter": "python",
   "pygments_lexer": "ipython3",
   "version": "3.10.8"
  }
 },
 "nbformat": 4,
 "nbformat_minor": 5
}
